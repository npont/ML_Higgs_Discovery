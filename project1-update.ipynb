{
 "cells": [
  {
   "cell_type": "code",
   "execution_count": 1,
   "metadata": {},
   "outputs": [],
   "source": [
    "# Useful starting lines\n",
    "%matplotlib inline\n",
    "import numpy as np\n",
    "import matplotlib.pyplot as plt\n",
    "%load_ext autoreload\n",
    "%autoreload 2"
   ]
  },
  {
   "cell_type": "code",
   "execution_count": 14,
   "metadata": {},
   "outputs": [],
   "source": [
    "from proj1_helpers import *\n",
    "from implementations import *\n",
    "from crossvalidation import *\n",
    "from plots import * \n",
    "from data_preprocessing import *"
   ]
  },
  {
   "cell_type": "markdown",
   "metadata": {},
   "source": [
    "## Load the training data into feature matrix, class labels, and event ids:"
   ]
  },
  {
   "cell_type": "code",
   "execution_count": 2,
   "metadata": {},
   "outputs": [],
   "source": [
    "import zipfile "
   ]
  },
  {
   "cell_type": "code",
   "execution_count": 3,
   "metadata": {},
   "outputs": [],
   "source": [
    "zf_train = zipfile.ZipFile('data/train.csv.zip') \n",
    "zf_train.extractall()\n",
    "zf_test = zipfile.ZipFile('data/test.csv.zip')\n",
    "zf_test.extractall()"
   ]
  },
  {
   "cell_type": "code",
   "execution_count": 12,
   "metadata": {},
   "outputs": [],
   "source": [
    "from proj1_helpers import *\n",
    "#PATH1='..\\'\n",
    "DATA_TRAIN_PATH = 'train.csv' # TODO: download train data and supply path here \n",
    "y_train, x_train, ids = load_csv_data(DATA_TRAIN_PATH)\n",
    "\n",
    "print(\"Before data preprocessing step, dimensions are:\")\n",
    "print('tX (for training)', tX.shape, 'tX_test', tX_test.shape)\n",
    "\n",
    "multiple=int((tX.shape[1])/5)\n",
    "plot_data(tX, \"before_processing\",5,multiple)"
   ]
  },
  {
   "cell_type": "markdown",
   "metadata": {},
   "source": [
    "Data Preprocessing:"
   ]
  },
  {
   "cell_type": "code",
   "execution_count": null,
   "metadata": {},
   "outputs": [],
   "source": [
    "\"\"\"Pre-processing data:\"\"\"\n",
    "x_train, x_test=data_preprocessing(tX, tX_test)\n",
    "print(\"After data preprocessing step, dimensions are:\")\n",
    "print('train', x_train.shape, 'test', x_test.shape)\n",
    "\n",
    "\"\"\"Visualization after data processing:\"\"\"\n",
    "multiple=int((x_train.shape[1])/5)\n",
    "plot_data(x_train,\"after_processing\",5,multiple)"
   ]
  },
  {
   "cell_type": "markdown",
   "metadata": {},
   "source": [
    "## Do your thing crazy machine learning thing here :) ..."
   ]
  },
  {
   "cell_type": "code",
   "execution_count": 17,
   "metadata": {},
   "outputs": [],
   "source": [
    "#cross validation for ridge regression\n",
    "\n",
    "k_fold = 3\n",
    "seed = 4\n",
    "degree = 8\n",
    "\n",
    "lambdas_ = np.linspace(2,4,40) #Lamdba for best submission : linspace(2,4,40)\n",
    "\n",
    "losses_tr_ridge = []\n",
    "losses_te_ridge = []\n",
    "# split data in k fold\n",
    "k_indices = build_k_indices(y_train, k_fold, seed)\n",
    "\n",
    "for lambda_ in lambdas_:\n",
    "    loss_tr_k = []\n",
    "    loss_te_k = []\n",
    "    for k in range(0,k_fold):\n",
    "        w,loss_tr,loss_te = cross_validation_ridge(y_train, x_train, k_indices, k,degree, lambda_)\n",
    "        loss_tr_k.append(loss_tr)\n",
    "        loss_te_k.append(loss_te)\n",
    "    losses_tr_ridge.append(np.mean(loss_tr_k))\n",
    "    losses_te_ridge.append(np.mean(loss_te_k))"
   ]
  },
  {
   "cell_type": "code",
   "execution_count": 18,
   "metadata": {},
   "outputs": [
    {
     "data": {
      "text/plain": [
       "10945401.690036079"
      ]
     },
     "execution_count": 18,
     "metadata": {},
     "output_type": "execute_result"
    }
   ],
   "source": [
    "min(losses_te_ridge)"
   ]
  },
  {
   "cell_type": "code",
   "execution_count": 19,
   "metadata": {},
   "outputs": [
    {
     "name": "stdout",
     "output_type": "stream",
     "text": [
      "3.948717948717949\n"
     ]
    }
   ],
   "source": [
    "best_lambda = lambdas_[losses_te_ridge.index(min(losses_te_ridge))]\n",
    "print(best_lambda)"
   ]
  },
  {
   "cell_type": "markdown",
   "metadata": {},
   "source": [
    "## Generate predictions and save ouput in csv format for submission:"
   ]
  },
  {
   "cell_type": "code",
   "execution_count": 6,
   "metadata": {},
   "outputs": [],
   "source": [
    "DATA_TEST_PATH = 'test.csv' # TODO: download train data and supply path here \n",
    "_, tX_test, ids_test = load_csv_data(DATA_TEST_PATH)"
   ]
  },
  {
   "cell_type": "code",
   "execution_count": 20,
   "metadata": {},
   "outputs": [],
   "source": [
    "OUTPUT_PATH = 'sample-submission.csv' # TODO: fill in desired name of output file for submission\n",
    "weights, loss=ridge_regression(y_train, x_train, 3.948717948717949)\n",
    "y_pred = predict_labels(weights, tX_test)\n",
    "create_csv_submission(ids_test, y_pred, OUTPUT_PATH)"
   ]
  },
  {
   "cell_type": "code",
   "execution_count": null,
   "metadata": {},
   "outputs": [],
   "source": []
  }
 ],
 "metadata": {
  "anaconda-cloud": {},
  "kernelspec": {
   "display_name": "Python 3",
   "language": "python",
   "name": "python3"
  },
  "language_info": {
   "codemirror_mode": {
    "name": "ipython",
    "version": 3
   },
   "file_extension": ".py",
   "mimetype": "text/x-python",
   "name": "python",
   "nbconvert_exporter": "python",
   "pygments_lexer": "ipython3",
   "version": "3.8.5"
  }
 },
 "nbformat": 4,
 "nbformat_minor": 4
}
